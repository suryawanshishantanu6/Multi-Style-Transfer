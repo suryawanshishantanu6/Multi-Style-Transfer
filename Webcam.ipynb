{
 "cells": [
  {
   "cell_type": "code",
   "execution_count": 1,
   "id": "beautiful-submission",
   "metadata": {},
   "outputs": [],
   "source": [
    "import cv2\n",
    "import transformer\n",
    "import torch\n",
    "from torchvision import transforms, datasets"
   ]
  },
  {
   "cell_type": "code",
   "execution_count": 2,
   "id": "caroline-qatar",
   "metadata": {},
   "outputs": [],
   "source": [
    "STYLE_MODEL_PATH = \"transforms/udnie.pth\"\n",
    "WIDTH = 480\n",
    "HEIGHT = 360"
   ]
  },
  {
   "cell_type": "code",
   "execution_count": 3,
   "id": "mathematical-terrain",
   "metadata": {},
   "outputs": [],
   "source": [
    "def imgtotensor(img):\n",
    "    # Method to convert Image to Tensor\n",
    "    if (True == True):\n",
    "        itot_t = transforms.Compose([\n",
    "            transforms.ToTensor(),\n",
    "            transforms.Lambda(lambda x: x.mul(255))\n",
    "        ]) \n",
    "\n",
    "    # Convert image to tensor\n",
    "    tensor = itot_t(img)\n",
    "    # Add the batch_size dimension\n",
    "    tensor = tensor.unsqueeze(dim=0)\n",
    "    return tensor\n",
    "\n",
    "\n",
    "def tensortoimg(tensor):\n",
    "    # Method to convert Tensor to Image\n",
    "\n",
    "    # Remove the batch_size dimension\n",
    "    tensor = tensor.squeeze()\n",
    "    img = tensor.cpu().numpy()\n",
    "    # Transpose from [C, H, W] -> [H, W, C]\n",
    "    img = img.transpose(1, 2, 0)\n",
    "    return img"
   ]
  },
  {
   "cell_type": "code",
   "execution_count": 4,
   "id": "hydraulic-shelter",
   "metadata": {},
   "outputs": [],
   "source": [
    "def webcam(style_transform_path, width=1280, height=720):\n",
    "\n",
    "    # Device\n",
    "    device = (\"cuda\" if torch.cuda.is_available() else \"cpu\")\n",
    "\n",
    "    # Load Transformer Network\n",
    "    print(\"Loading Transformer Network\")\n",
    "    net = transformer.TransformerNetwork()\n",
    "    net.load_state_dict(torch.load(STYLE_MODEL_PATH))\n",
    "    net = net.to(device)\n",
    "    print(\"Done Loading Transformer Network\")\n",
    "\n",
    "    # Set webcam settings\n",
    "    cam = cv2.VideoCapture(0)\n",
    "    cam.set(3, width)\n",
    "    cam.set(4, height)\n",
    "    fps = cam.get(cv2.CAP_PROP_FPS)\n",
    "\n",
    "    # Main loop\n",
    "    with torch.no_grad():\n",
    "        while True:\n",
    "            # Get webcam input\n",
    "            ret_val, img = cam.read()\n",
    "\n",
    "            # Mirror \n",
    "            img = cv2.flip(img, 1)\n",
    "\n",
    "            # Free-up unneeded cuda memory\n",
    "            torch.cuda.empty_cache()\n",
    "            \n",
    "            # Generate image\n",
    "            content_tensor = imgtotensor(img).to(device)\n",
    "            generated_tensor = net(content_tensor)\n",
    "            generated_image = tensortoimg(generated_tensor.detach())\n",
    "            generated_image = generated_image / 255\n",
    "            \n",
    "#             print(\"Fps: \",fps)\n",
    "\n",
    "            # Show webcam\n",
    "            cv2.imshow('Demo webcam', generated_image)\n",
    "            if cv2.waitKey(1) == 27:\n",
    "                torch.cuda.empty_cache()\n",
    "                break  # esc to quit\n",
    "            \n",
    "    # Free-up memory\n",
    "    cam.release()\n",
    "    cv2.destroyAllWindows()"
   ]
  },
  {
   "cell_type": "code",
   "execution_count": 6,
   "id": "oriental-optics",
   "metadata": {},
   "outputs": [
    {
     "name": "stdout",
     "output_type": "stream",
     "text": [
      "Loading Transformer Network\n",
      "Done Loading Transformer Network\n"
     ]
    }
   ],
   "source": [
    "webcam(STYLE_MODEL_PATH, WIDTH, HEIGHT)"
   ]
  },
  {
   "cell_type": "code",
   "execution_count": null,
   "id": "protected-wallpaper",
   "metadata": {},
   "outputs": [],
   "source": []
  }
 ],
 "metadata": {
  "hide_input": false,
  "kernelspec": {
   "display_name": "Python 3",
   "language": "python",
   "name": "python3"
  },
  "language_info": {
   "codemirror_mode": {
    "name": "ipython",
    "version": 3
   },
   "file_extension": ".py",
   "mimetype": "text/x-python",
   "name": "python",
   "nbconvert_exporter": "python",
   "pygments_lexer": "ipython3",
   "version": "3.9.1"
  }
 },
 "nbformat": 4,
 "nbformat_minor": 5
}
